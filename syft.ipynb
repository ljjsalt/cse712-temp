{
 "cells": [
  {
   "cell_type": "code",
   "execution_count": 1,
   "metadata": {},
   "outputs": [],
   "source": [
    "import torch\n",
    "torch.set_num_threads(1) # We ask torch to use a single thread \n",
    "# as we run async code which conflicts with multithreading\n",
    "import torch.nn as nn\n",
    "import numpy as np\n",
    "import torchvision\n",
    "from torchvision import transforms\n",
    "import time\n",
    "\n",
    "from models.net import presnet10"
   ]
  },
  {
   "cell_type": "code",
   "execution_count": 2,
   "metadata": {},
   "outputs": [],
   "source": [
    "mean, std = [0.485, 0.456, 0.406], [0.229, 0.224, 0.225]\n",
    "train_transform= transforms.Compose([transforms.Resize((96, 96)),\n",
    "            transforms.ToTensor(),\n",
    "            transforms.Normalize(mean=mean, std =std)])\n",
    "# test_transform_list = train_transform_list\n",
    "\n",
    "train_ds = torchvision.datasets.ImageFolder('./datasets/chest_xray/train' ,transform = train_transform)\n",
    "# test_ds = torchvision.datasets.ImageFolder('./datasets/chest_xray/test' ,transform = test_transform_list)\n",
    "\n",
    "dataloader = torch.utils.data.DataLoader(train_ds, batch_size=2, shuffle=True, num_workers=4)"
   ]
  },
  {
   "cell_type": "code",
   "execution_count": 3,
   "metadata": {},
   "outputs": [],
   "source": [
    "model = presnet10(2, act='poly').eval()\n",
    "state = torch.load(\"./presnet10_chest_best.pth\", map_location='cpu')\n",
    "model.load_state_dict(state)"
   ]
  },
  {
   "cell_type": "code",
   "execution_count": 4,
   "metadata": {},
   "outputs": [],
   "source": [
    "import syft as sy\n",
    "\n",
    "hook = sy.TorchHook(torch) \n",
    "data_owner = sy.VirtualWorker(hook, id=\"data_owner\")\n",
    "model_owner = sy.VirtualWorker(hook, id=\"model_owner\")\n",
    "crypto_provider = sy.VirtualWorker(hook, id=\"crypto_provider\")\n",
    "\n",
    "from syft.serde.compression import NO_COMPRESSION\n",
    "sy.serde.compression.default_compress_scheme = NO_COMPRESSION\n",
    "\n",
    "data, true_labels = next(iter(dataloader))\n",
    "data_ptr = data.send(data_owner)\n",
    "\n",
    "# We store the true output of the model for comparison purpose\n",
    "true_prediction = model(data)\n",
    "model_ptr = model.send(model_owner)"
   ]
  },
  {
   "cell_type": "code",
   "execution_count": 5,
   "metadata": {},
   "outputs": [],
   "source": [
    "encryption_kwargs = dict(\n",
    "    workers=(data_owner, model_owner), # the workers holding shares of the secret-shared encrypted data\n",
    "    crypto_provider=crypto_provider, # a third party providing some cryptography primitives\n",
    "    protocol=\"fss\", # the name of the crypto protocol, fss stands for \"Function Secret Sharing\"\n",
    "    precision_fractional=4, # the encoding fixed precision (i.e. floats are truncated to the 4th decimal)\n",
    ")\n",
    "encrypted_data = data_ptr.encrypt(**encryption_kwargs).get()\n",
    "encrypted_model = model_ptr.encrypt(**encryption_kwargs).get()"
   ]
  },
  {
   "cell_type": "code",
   "execution_count": 9,
   "metadata": {},
   "outputs": [
    {
     "name": "stderr",
     "output_type": "stream",
     "text": [
      "/home/jiajie/miniconda3/envs/syft/lib/python3.8/site-packages/syft/frameworks/torch/tensors/interpreters/additive_shared.py:122: UserWarning: Use dtype instead of field\n",
      "  warnings.warn(\"Use dtype instead of field\")\n"
     ]
    },
    {
     "name": "stdout",
     "output_type": "stream",
     "text": [
      "58.69201326370239 seconds\n",
      "Predicted labels: tensor([0., 0.])\n",
      "     True labels: tensor([0, 0])\n"
     ]
    }
   ],
   "source": [
    "start_time = time.time()\n",
    "\n",
    "encrypted_prediction = encrypted_model(encrypted_data)\n",
    "encrypted_labels = encrypted_prediction.argmax(dim=1)\n",
    "\n",
    "print(time.time() - start_time, \"seconds\")\n",
    "\n",
    "labels = encrypted_labels.decrypt()\n",
    "\n",
    "print(\"Predicted labels:\", labels)\n",
    "print(\"     True labels:\", true_labels)"
   ]
  }
 ],
 "metadata": {
  "interpreter": {
   "hash": "b14a93d06b4019d82bf89934d355f7eb952e0816e1596edfb9f8d71d22973e50"
  },
  "kernelspec": {
   "display_name": "Python 3.8.12 ('syft')",
   "language": "python",
   "name": "python3"
  },
  "language_info": {
   "codemirror_mode": {
    "name": "ipython",
    "version": 3
   },
   "file_extension": ".py",
   "mimetype": "text/x-python",
   "name": "python",
   "nbconvert_exporter": "python",
   "pygments_lexer": "ipython3",
   "version": "3.8.12"
  },
  "orig_nbformat": 4
 },
 "nbformat": 4,
 "nbformat_minor": 2
}
